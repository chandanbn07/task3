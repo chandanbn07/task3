{
  "nbformat": 4,
  "nbformat_minor": 0,
  "metadata": {
    "colab": {
      "provenance": [],
      "authorship_tag": "ABX9TyO5ekTyBu8eRZMsb1kufgtM",
      "include_colab_link": true
    },
    "kernelspec": {
      "name": "python3",
      "display_name": "Python 3"
    },
    "language_info": {
      "name": "python"
    }
  },
  "cells": [
    {
      "cell_type": "markdown",
      "metadata": {
        "id": "view-in-github",
        "colab_type": "text"
      },
      "source": [
        "<a href=\"https://colab.research.google.com/github/chandanbn07/task3/blob/main/task3.ipynb\" target=\"_parent\"><img src=\"https://colab.research.google.com/assets/colab-badge.svg\" alt=\"Open In Colab\"/></a>"
      ]
    },
    {
      "cell_type": "code",
      "source": [
        "import pandas as pd\n",
        "import numpy as np\n",
        "import seaborn as sns\n",
        "import matplotlib.pyplot as plt\n",
        "from sklearn.model_selection import train_test_split\n",
        "from sklearn.preprocessing import LabelEncoder, StandardScaler\n",
        "from sklearn.tree import DecisionTreeClassifier, plot_tree\n",
        "from sklearn.metrics import accuracy_score, classification_report, confusion_matrix\n",
        "\n",
        "# Load dataset with proper delimiter\n",
        "df = pd.read_csv('/content/banking.csv', sep=';')\n",
        "\n",
        "# Check if dataset is correctly read\n",
        "print(\"First few rows of the dataset:\")\n",
        "print(df.head())\n",
        "\n",
        "# Verify if the dataset was read correctly\n",
        "print(\"\\nColumn names detected:\")\n",
        "print(df.columns)\n",
        "\n",
        "# Explicitly define the target column name\n",
        "target_column = 'y'\n",
        "\n",
        "# Check if the target column exists in the DataFrame\n",
        "if target_column not in df.columns:\n",
        "    # If not found, try to find a column containing 'y' or 'target' in its name\n",
        "    possible_targets = [col for col in df.columns if 'y' in col.lower() or 'target' in col.lower()]\n",
        "    if possible_targets:\n",
        "        target_column = possible_targets[0]\n",
        "        print(f\"Warning: Using '{target_column}' as target column. Please confirm if this is correct.\")\n",
        "    else:\n",
        "        raise KeyError(f\"Error: Target column ('y' or similar) not found. Please check the dataset.\")\n",
        "\n",
        "# Replace 'unknown' values with NaN for better handling\n",
        "df.replace('unknown', np.nan, inplace=True)\n",
        "\n",
        "# Fill missing values in categorical columns with mode\n",
        "for col in df.select_dtypes(include=['object']).columns:\n",
        "    df[col] = df[col].fillna(df[col].mode()[0])\n",
        "\n",
        "# Encode categorical variables\n",
        "categorical_cols = df.select_dtypes(include=['object']).columns\n",
        "label_encoders = {}\n",
        "for col in categorical_cols:\n",
        "    le = LabelEncoder()\n",
        "    df[col] = le.fit_transform(df[col])\n",
        "    label_encoders[col] = le\n",
        "\n",
        "# Define features and target\n",
        "X = df.drop(columns=[target_column])  # Drop the correct target column\n",
        "y = df[target_column]\n",
        "\n",
        "# Check if y has only two unique values\n",
        "print(\"Unique values in 'y':\", y.unique())\n",
        "\n",
        "# Train-test split (no stratify if it causes errors)\n",
        "X_train, X_test, y_train, y_test = train_test_split(X, y, test_size=0.2, random_state=42)\n",
        "\n",
        "# Scale features for better performance\n",
        "scaler = StandardScaler()\n",
        "X_train = scaler.fit_transform(X_train) # Now X_train should have data\n",
        "X_test = scaler.transform(X_test)\n",
        "\n",
        "# Train Decision Tree Classifier\n",
        "clf = DecisionTreeClassifier(criterion='entropy', max_depth=5, random_state=42)\n",
        "clf.fit(X_train, y_train)\n",
        "\n",
        "# Make predictions\n",
        "y_pred = clf.predict(X_test)\n",
        "\n",
        "# Evaluate model\n",
        "print(\"\\nModel Accuracy:\", accuracy_score(y_test, y_pred))\n",
        "print(\"\\nClassification Report:\\n\", classification_report(y_test, y_pred))\n",
        "\n",
        "# Confusion Matrix\n",
        "plt.figure(figsize=(6, 4))\n",
        "sns.heatmap(confusion_matrix(y_test, y_pred), annot=True, cmap='Blues', fmt='d')\n",
        "plt.title('Confusion Matrix')\n",
        "plt.xlabel('Predicted')\n",
        "plt.ylabel('Actual')\n",
        "plt.show()\n",
        "\n",
        "# Visualize Decision Tree\n",
        "plt.figure(figsize=(12, 6))\n",
        "plot_tree(clf, feature_names=X.columns, class_names=['No', 'Yes'], filled=True)\n",
        "plt.title('Decision Tree Visualization')\n",
        "plt.show()\n",
        "\n",
        "print(\"✅ Decision Tree Classifier built and evaluated successfully!\")"
      ],
      "metadata": {
        "id": "cVCpFMSw_wRC"
      },
      "execution_count": null,
      "outputs": []
    }
  ]
}